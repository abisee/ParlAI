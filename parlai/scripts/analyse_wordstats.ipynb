{
 "cells": [
  {
   "cell_type": "code",
   "execution_count": 218,
   "metadata": {},
   "outputs": [
    {
     "name": "stdout",
     "output_type": "stream",
     "text": [
      "The autoreload extension is already loaded. To reload it, use:\n",
      "  %reload_ext autoreload\n"
     ]
    }
   ],
   "source": [
    "%load_ext autoreload\n",
    "%autoreload 2\n",
    "\n",
    "import os\n",
    "import json\n",
    "from collections import Counter\n",
    "import numpy as np\n",
    "from parlai_internal.projects.seq2plan2seq.controlled_seq2seq.control_vars import CONTROL2NUMBUCKETS, CONTROL2CONTINUOUS\n",
    "import matplotlib.pyplot as plt\n",
    "from matplotlib.pyplot import figure\n",
    "from collections import defaultdict\n"
   ]
  },
  {
   "cell_type": "code",
   "execution_count": 223,
   "metadata": {},
   "outputs": [
    {
     "name": "stdout",
     "output_type": "stream",
     "text": [
      "goldresponse\n",
      "controlled_seq2seq_question10_niwf10buckets10.valid.beam1.beamminnbest30.setcontrols:niwf_10bucketsNone_questionNone\n",
      "controlled_seq2seq_contuserword20.valid.beam1.beamminnbest30.setcontrols:contuserwordNone\n",
      "controlled_seq2seq_contuserword20_niwf10buckets10.valid.beam1.beamminnbest30.setcontrols:contuserwordNone_niwf_10bucketsNone\n",
      "controlled_seq2seq_niwf10buckets10.valid.beam1.beamminnbest30.setcontrols:niwf_10bucketsNone\n",
      "controlled_seq2seq_question10.valid.beam1.beamminnbest30.setcontrols:questionNone\n",
      "controlled_seq2seq_question10_contuserword20.valid.beam1.beamminnbest30.setcontrols:contuserwordNone_questionNone\n",
      "controlled_seq2seq_question10_contuserword20_niwf10buckets10.valid.beam1.beamminnbest30.setcontrols:contuserwordNone_niwf_10bucketsNone_questionNone\n",
      "controlled_seq2seq_contuserword20.valid.beam20.beamminnbest30.setcontrols:contuserwordNone\n"
     ]
    }
   ],
   "source": [
    "models_dirs = ['/private/home/abisee/models']\n",
    "mf2wordstats = {}\n",
    "\n",
    "for models_dir in models_dirs:\n",
    "    wordstat_files = [fname for fname in os.listdir(models_dir) if 'wordstats.json' in fname]\n",
    "    for json_file in wordstat_files:\n",
    "        if \"controlled_seq2seq\" not in json_file and \"goldresponse\" not in json_file and \"throwaway\" not in json_file:\n",
    "            continue\n",
    "        mf = json_file[:json_file.index('.wordstats.json')]\n",
    "        print(mf)\n",
    "        with open(os.path.join(models_dir, json_file), \"r\") as f:\n",
    "            data = json.load(f)\n",
    "        mf2wordstats[mf] = data\n",
    "        \n",
    "for mf, wordstats in mf2wordstats.items():\n",
    "    d = defaultdict(int)\n",
    "    for k,v in wordstats['word_statistics']['freqs_cnt'].items():\n",
    "        d[k] = v\n",
    "    wordstats['word_statistics']['freqs_cnt'] = d\n",
    "    "
   ]
  },
  {
   "cell_type": "code",
   "execution_count": 230,
   "metadata": {},
   "outputs": [
    {
     "data": {
      "text/html": [
       "<table>\n",
       "<tbody>\n",
       "<tr><td style=\"text-align: right;\">                                                                                                                                          model name</td><td style=\"text-align: right;\">num_exs</td><td style=\"text-align: right;\">  ppl</td><td style=\"text-align: right;\">unique_perc</td><td style=\"text-align: right;\">mean_wlength</td><td style=\"text-align: right;\">mean_clength</td><td style=\"text-align: right;\"># rare<100</td><td style=\"text-align: right;\"># rare<1000</td><td style=\"text-align: right;\"># rare<10000</td><td style=\"text-align: right;\">question bucket 0 acc</td><td style=\"text-align: right;\">question bucket 1 acc</td><td style=\"text-align: right;\">niwf_10buckets bucket 0 acc</td><td style=\"text-align: right;\">niwf_10buckets bucket 1 acc</td><td style=\"text-align: right;\">niwf_10buckets bucket 2 acc</td><td style=\"text-align: right;\">niwf_10buckets bucket 3 acc</td><td style=\"text-align: right;\">niwf_10buckets bucket 4 acc</td><td style=\"text-align: right;\">niwf_10buckets bucket 5 acc</td><td style=\"text-align: right;\">niwf_10buckets bucket 6 acc</td><td style=\"text-align: right;\">niwf_10buckets bucket 7 acc</td><td style=\"text-align: right;\">niwf_10buckets bucket 8 acc</td><td style=\"text-align: right;\">niwf_10buckets bucket 9 acc</td><td style=\"text-align: right;\">contuserword bucket 0 acc</td><td style=\"text-align: right;\">contuserword bucket 1 acc</td></tr>\n",
       "<tr><td style=\"text-align: right;\">                                                           controlled_seq2seq_contuserword20.valid.beam1.beamminnbest30.setcontrols:contuserwordNone</td><td style=\"text-align: right;\">   7801</td><td style=\"text-align: right;\">26.14</td><td style=\"text-align: right;\">     81.49%</td><td style=\"text-align: right;\">       11.25</td><td style=\"text-align: right;\">       42.11</td><td style=\"text-align: right;\">       257</td><td style=\"text-align: right;\">       1976</td><td style=\"text-align: right;\">        8307</td><td style=\"text-align: right;\">                     </td><td style=\"text-align: right;\">                     </td><td style=\"text-align: right;\">                           </td><td style=\"text-align: right;\">                           </td><td style=\"text-align: right;\">                           </td><td style=\"text-align: right;\">                           </td><td style=\"text-align: right;\">                           </td><td style=\"text-align: right;\">                           </td><td style=\"text-align: right;\">                           </td><td style=\"text-align: right;\">                           </td><td style=\"text-align: right;\">                           </td><td style=\"text-align: right;\">                           </td><td style=\"text-align: right;\">                   77.22%</td><td style=\"text-align: right;\">                   51.78%</td></tr>\n",
       "<tr><td style=\"text-align: right;\">                                                          controlled_seq2seq_contuserword20.valid.beam20.beamminnbest30.setcontrols:contuserwordNone</td><td style=\"text-align: right;\">     10</td><td style=\"text-align: right;\">19.23</td><td style=\"text-align: right;\">    100.00%</td><td style=\"text-align: right;\">        8.10</td><td style=\"text-align: right;\">       32.00</td><td style=\"text-align: right;\">         0</td><td style=\"text-align: right;\">          1</td><td style=\"text-align: right;\">           3</td><td style=\"text-align: right;\">                     </td><td style=\"text-align: right;\">                     </td><td style=\"text-align: right;\">                           </td><td style=\"text-align: right;\">                           </td><td style=\"text-align: right;\">                           </td><td style=\"text-align: right;\">                           </td><td style=\"text-align: right;\">                           </td><td style=\"text-align: right;\">                           </td><td style=\"text-align: right;\">                           </td><td style=\"text-align: right;\">                           </td><td style=\"text-align: right;\">                           </td><td style=\"text-align: right;\">                           </td><td style=\"text-align: right;\">                   66.67%</td><td style=\"text-align: right;\">                   25.00%</td></tr>\n",
       "<tr><td style=\"text-align: right;\">                        controlled_seq2seq_contuserword20_niwf10buckets10.valid.beam1.beamminnbest30.setcontrols:contuserwordNone_niwf_10bucketsNone</td><td style=\"text-align: right;\">   7801</td><td style=\"text-align: right;\">24.97</td><td style=\"text-align: right;\">     84.34%</td><td style=\"text-align: right;\">       11.30</td><td style=\"text-align: right;\">       42.87</td><td style=\"text-align: right;\">       333</td><td style=\"text-align: right;\">       2249</td><td style=\"text-align: right;\">        8832</td><td style=\"text-align: right;\">                     </td><td style=\"text-align: right;\">                     </td><td style=\"text-align: right;\">                     85.48%</td><td style=\"text-align: right;\">                     33.10%</td><td style=\"text-align: right;\">                     21.64%</td><td style=\"text-align: right;\">                     17.43%</td><td style=\"text-align: right;\">                     15.37%</td><td style=\"text-align: right;\">                     14.73%</td><td style=\"text-align: right;\">                      8.40%</td><td style=\"text-align: right;\">                      6.94%</td><td style=\"text-align: right;\">                      6.52%</td><td style=\"text-align: right;\">                      7.83%</td><td style=\"text-align: right;\">                   75.99%</td><td style=\"text-align: right;\">                   52.45%</td></tr>\n",
       "<tr><td style=\"text-align: right;\">                                   controlled_seq2seq_question10_contuserword20.valid.beam1.beamminnbest30.setcontrols:contuserwordNone_questionNone</td><td style=\"text-align: right;\">   7801</td><td style=\"text-align: right;\">24.75</td><td style=\"text-align: right;\">     78.11%</td><td style=\"text-align: right;\">       11.22</td><td style=\"text-align: right;\">       41.82</td><td style=\"text-align: right;\">       199</td><td style=\"text-align: right;\">       1626</td><td style=\"text-align: right;\">        7598</td><td style=\"text-align: right;\">               99.98%</td><td style=\"text-align: right;\">               98.89%</td><td style=\"text-align: right;\">                           </td><td style=\"text-align: right;\">                           </td><td style=\"text-align: right;\">                           </td><td style=\"text-align: right;\">                           </td><td style=\"text-align: right;\">                           </td><td style=\"text-align: right;\">                           </td><td style=\"text-align: right;\">                           </td><td style=\"text-align: right;\">                           </td><td style=\"text-align: right;\">                           </td><td style=\"text-align: right;\">                           </td><td style=\"text-align: right;\">                   75.60%</td><td style=\"text-align: right;\">                   52.07%</td></tr>\n",
       "<tr><td style=\"text-align: right;\">controlled_seq2seq_question10_contuserword20_niwf10buckets10.valid.beam1.beamminnbest30.setcontrols:contuserwordNone_niwf_10bucketsNone_questionNone</td><td style=\"text-align: right;\">   7801</td><td style=\"text-align: right;\">24.44</td><td style=\"text-align: right;\">     85.04%</td><td style=\"text-align: right;\">       12.12</td><td style=\"text-align: right;\">       45.39</td><td style=\"text-align: right;\">       349</td><td style=\"text-align: right;\">       2201</td><td style=\"text-align: right;\">        8581</td><td style=\"text-align: right;\">               99.96%</td><td style=\"text-align: right;\">               99.11%</td><td style=\"text-align: right;\">                     86.35%</td><td style=\"text-align: right;\">                     34.24%</td><td style=\"text-align: right;\">                     23.29%</td><td style=\"text-align: right;\">                     16.28%</td><td style=\"text-align: right;\">                     17.28%</td><td style=\"text-align: right;\">                     11.26%</td><td style=\"text-align: right;\">                      8.81%</td><td style=\"text-align: right;\">                      9.54%</td><td style=\"text-align: right;\">                      9.20%</td><td style=\"text-align: right;\">                      8.17%</td><td style=\"text-align: right;\">                   77.15%</td><td style=\"text-align: right;\">                   50.17%</td></tr>\n",
       "</tbody>\n",
       "</table>"
      ],
      "text/plain": [
       "<IPython.core.display.HTML object>"
      ]
     },
     "metadata": {},
     "output_type": "display_data"
    }
   ],
   "source": [
    "from IPython.display import HTML, display\n",
    "import tabulate\n",
    "\n",
    "def mean(l):\n",
    "    return sum(l)/len(l)\n",
    "\n",
    "def model2row(mf, wordstats):\n",
    "#     avg_niwf = wordstats['niwf']['avg_niwf']*100\n",
    "    mean_wlength = mean(wordstats['word_statistics']['mean_wlength'])\n",
    "    mean_clength = mean(wordstats['word_statistics']['mean_clength'])\n",
    "    row = [\n",
    "        mf,\n",
    "        wordstats['report']['exs'],\n",
    "        wordstats['report']['ppl'],\n",
    "        \"%.2f%%\" % wordstats['unique_percent'],\n",
    "        \"%.2f\" % mean_wlength,\n",
    "        \"%.2f\" % mean_clength,\n",
    "#         \"%.4f%%\" % avg_niwf,\n",
    "        \"%i\" % wordstats['word_statistics']['freqs_cnt']['100'],\n",
    "        \"%i\" % wordstats['word_statistics']['freqs_cnt']['1000'],\n",
    "        \"%i\" % wordstats['word_statistics']['freqs_cnt']['10000'],\n",
    "#         \"%.4f\" % wordstats['distinct-n']['1'],\n",
    "#         \"%.4f\" % wordstats['distinct-n']['2'],\n",
    "#         \"%.4f\" % wordstats['distinct-n']['3'],\n",
    "#         \"%.4f\" % wordstats['distinct-n']['4'],\n",
    "    ]\n",
    "    \n",
    "    for control, num_buckets in CONTROL2NUMBUCKETS.items():\n",
    "        if control in wordstats['faithfulness_stats']['confusion_matrices']:\n",
    "            conf_matrix = np.array(wordstats['faithfulness_stats']['confusion_matrices'][control])\n",
    "            for b in range(num_buckets):\n",
    "                acc = conf_matrix[b, b] / np.sum(conf_matrix[b, :])\n",
    "                row.append(\"%.2f%%\" % (acc*100))\n",
    "        else:\n",
    "            row += ['']*num_buckets\n",
    "        \n",
    "    return row\n",
    "\n",
    "header_row = ['model name', \n",
    "              'num_exs', \n",
    "              'ppl',\n",
    "              'unique_perc', \n",
    "              'mean_wlength', \n",
    "              'mean_clength', \n",
    "#               'avg_niwf',\n",
    "              '# rare<100', \n",
    "              '# rare<1000', \n",
    "              '# rare<10000',\n",
    "#               'distinct-1',\n",
    "#               'distinct-2',\n",
    "#               'distinct-3',\n",
    "#               'distinct-4',\n",
    "             ] \n",
    "\n",
    "for control, num_buckets in CONTROL2NUMBUCKETS.items():\n",
    "    for b in range(num_buckets):\n",
    "        header_row.append('%s bucket %i acc' % (control, b))\n",
    "\n",
    "table = [header_row] \n",
    "\n",
    "for mf in sorted(mf2wordstats.keys()):\n",
    "    stat = mf2wordstats[mf]\n",
    "    if \"contuserword\" in mf:\n",
    "        table.append(model2row(mf, mf2wordstats[mf]))\n",
    "    \n",
    "display(HTML(tabulate.tabulate(table, tablefmt='html', stralign=\"right\")))"
   ]
  },
  {
   "cell_type": "code",
   "execution_count": 209,
   "metadata": {},
   "outputs": [
    {
     "ename": "KeyError",
     "evalue": "'niwf_10buckets'",
     "output_type": "error",
     "traceback": [
      "\u001b[0;31m---------------------------------------------------------------------------\u001b[0m",
      "\u001b[0;31mKeyError\u001b[0m                                  Traceback (most recent call last)",
      "\u001b[0;32m<ipython-input-209-5e39ca3f78d0>\u001b[0m in \u001b[0;36m<module>\u001b[0;34m()\u001b[0m\n\u001b[1;32m     11\u001b[0m \u001b[0;34m\u001b[0m\u001b[0m\n\u001b[1;32m     12\u001b[0m         \u001b[0;31m# these are both dicts from bucketid to list of floats\u001b[0m\u001b[0;34m\u001b[0m\u001b[0;34m\u001b[0m\u001b[0m\n\u001b[0;32m---> 13\u001b[0;31m         \u001b[0mcont_vals_model\u001b[0m \u001b[0;34m=\u001b[0m \u001b[0mwordstats\u001b[0m\u001b[0;34m[\u001b[0m\u001b[0;34m'faithfulness_stats'\u001b[0m\u001b[0;34m]\u001b[0m\u001b[0;34m[\u001b[0m\u001b[0;34m'continuous_values'\u001b[0m\u001b[0;34m]\u001b[0m\u001b[0;34m[\u001b[0m\u001b[0mcontrol\u001b[0m\u001b[0;34m]\u001b[0m\u001b[0;34m[\u001b[0m\u001b[0;34m'model'\u001b[0m\u001b[0;34m]\u001b[0m\u001b[0;34m\u001b[0m\u001b[0m\n\u001b[0m\u001b[1;32m     14\u001b[0m         \u001b[0mcont_vals_target\u001b[0m \u001b[0;34m=\u001b[0m \u001b[0mwordstats\u001b[0m\u001b[0;34m[\u001b[0m\u001b[0;34m'faithfulness_stats'\u001b[0m\u001b[0;34m]\u001b[0m\u001b[0;34m[\u001b[0m\u001b[0;34m'continuous_values'\u001b[0m\u001b[0;34m]\u001b[0m\u001b[0;34m[\u001b[0m\u001b[0mcontrol\u001b[0m\u001b[0;34m]\u001b[0m\u001b[0;34m[\u001b[0m\u001b[0;34m'target'\u001b[0m\u001b[0;34m]\u001b[0m\u001b[0;34m\u001b[0m\u001b[0m\n\u001b[1;32m     15\u001b[0m         \u001b[0mcont_vals_model\u001b[0m \u001b[0;34m=\u001b[0m \u001b[0;34m{\u001b[0m\u001b[0mint\u001b[0m\u001b[0;34m(\u001b[0m\u001b[0mk\u001b[0m\u001b[0;34m)\u001b[0m\u001b[0;34m:\u001b[0m\u001b[0mv\u001b[0m \u001b[0;32mfor\u001b[0m \u001b[0mk\u001b[0m\u001b[0;34m,\u001b[0m\u001b[0mv\u001b[0m \u001b[0;32min\u001b[0m \u001b[0mcont_vals_model\u001b[0m\u001b[0;34m.\u001b[0m\u001b[0mitems\u001b[0m\u001b[0;34m(\u001b[0m\u001b[0;34m)\u001b[0m\u001b[0;34m}\u001b[0m\u001b[0;34m\u001b[0m\u001b[0m\n",
      "\u001b[0;31mKeyError\u001b[0m: 'niwf_10buckets'"
     ]
    }
   ],
   "source": [
    "# plot distribution of continuous control vars\n",
    "\n",
    "for mf in sorted(mf2wordstats.keys()):\n",
    "    if mf=='goldresponse':\n",
    "        continue\n",
    "    wordstats = mf2wordstats[mf]\n",
    "\n",
    "    for control, num_buckets in CONTROL2NUMBUCKETS.items():\n",
    "        if not CONTROL2CONTINUOUS[control]:\n",
    "            continue\n",
    "        \n",
    "        # these are both dicts from bucketid to list of floats\n",
    "        cont_vals_model = wordstats['faithfulness_stats']['continuous_values'][control]['model']\n",
    "        cont_vals_target = wordstats['faithfulness_stats']['continuous_values'][control]['target']\n",
    "        cont_vals_model = {int(k):v for k,v in cont_vals_model.items()}\n",
    "        cont_vals_target = {int(k):v for k,v in cont_vals_target.items()}\n",
    "        \n",
    "        num_buckets = CONTROL2NUMBUCKETS[control]\n",
    "        \n",
    "        # BUCKET BAR CHART\n",
    "        figure(figsize=(10, 6))\n",
    "#         y_model = [-1/mean(np.log(cont_vals_model[b])) for b in range(num_buckets)]\n",
    "        y_model = [mean(cont_vals_model[b]) for b in range(num_buckets)]\n",
    "        y_target = [-1/mean(np.log(cont_vals_target[b])) for b in range(num_buckets)]\n",
    "        x = np.array([b for b in range(num_buckets)])\n",
    "        bar_width = 0.35\n",
    "        opacity = 0.8\n",
    "        rects1 = plt.bar(x, y_model, bar_width,\n",
    "                         alpha=opacity,\n",
    "                         color='r',\n",
    "                         label='model')\n",
    "#         rects2 = plt.bar(x + bar_width, y_target, bar_width,\n",
    "#                          alpha=opacity,\n",
    "#                          color='g',\n",
    "#                          label='target')\n",
    "        plt.xlabel(\"%s buckets\" % control)\n",
    "        plt.ylabel(\"%s mean value\" % control)\n",
    "        plt.title(\"Controlling %s in %s\" % (control, mf))\n",
    "        plt.legend(loc='upper left')\n",
    "        plt.show()\n",
    "        \n",
    "\n",
    "        # BUCKET SCATTER PLOT\n",
    "        x = []\n",
    "        for b in range(num_buckets):\n",
    "            assert len(cont_vals_model[b]) == len(cont_vals_target[b])\n",
    "            x += [b] * len(cont_vals_model[b])\n",
    "            \n",
    "        y_model = []\n",
    "        for b in range(num_buckets):\n",
    "            y_model += cont_vals_model[b]\n",
    "        y_model = np.log(y_model)\n",
    "            \n",
    "        y_target = []\n",
    "        for b in range(num_buckets):\n",
    "            y_target += cont_vals_target[b]\n",
    "        y_target = np.log(y_target)\n",
    "        figure(figsize=(10, 6))\n",
    "        plt.scatter(x, y_model, c=\"r\", alpha=0.5, label=\"model\")\n",
    "        plt.scatter(x, y_target, c=\"g\", alpha=0.5, label=\"target\")\n",
    "        plt.xlabel(\"%s Buckets\" % control)\n",
    "        plt.ylabel(\"%s Continuous values\" % control)\n",
    "        plt.title(\"Controlling %s in %s\" % (control, mf))\n",
    "        plt.legend(loc='upper left')\n",
    "        plt.show()\n",
    "        \n",
    "        x = []\n",
    "        y = []\n",
    "        for b in range(num_buckets):\n",
    "            x += cont_vals_target[b]\n",
    "            y += cont_vals_model[b]\n",
    "        x = np.log(x)\n",
    "        y = np.log(y)\n",
    "            \n",
    "            \n",
    "        # CONTINUOUS SCATTER PLOT\n",
    "        figure(figsize=(10, 6))\n",
    "        plt.scatter(x, y, c=\"b\", alpha=0.5)\n",
    "        plt.xlabel(\"target %s\" % control)\n",
    "        plt.ylabel(\"model %s\" % control)\n",
    "        plt.title(\"Controlling %s in %s\" % (control, mf))\n",
    "        plt.plot([-8, 0], [-8, 0], 'k-')\n",
    "        plt.show()"
   ]
  },
  {
   "cell_type": "code",
   "execution_count": 99,
   "metadata": {},
   "outputs": [
    {
     "name": "stdout",
     "output_type": "stream",
     "text": [
      "dict_keys(['opt', 'unique_percent', 'word_statistics', 'predictions', 'report', 'faithfulness_stats'])\n",
      "dict_keys(['contuserword', 'niwf_10buckets', 'question'])\n"
     ]
    }
   ],
   "source": [
    "print(mf2wordstats['goldresponse'].keys())\n",
    "print(mf2wordstats['throwaway.valid.beam1.beamminnbest3.setcontrols:contuserwordNone_niwf_10bucketsNone_questionNone']['faithfulness_stats'].keys())\n"
   ]
  },
  {
   "cell_type": "code",
   "execution_count": 4,
   "metadata": {},
   "outputs": [],
   "source": [
    "def show_preds(mf):\n",
    "    counter = Counter()\n",
    "    preds = mf2wordstats[mf]['predictions']\n",
    "    counter.update(preds)\n",
    "    num_unique = len([p for p,count in counter.items() if count==1])\n",
    "    print(\"num_unique: \", num_unique, num_unique*100/sum(counter.values()))\n",
    "#     for p, count in counter.most_common(100):\n",
    "#         print(\"%3i   %s\" % (count, p))"
   ]
  },
  {
   "cell_type": "code",
   "execution_count": 5,
   "metadata": {},
   "outputs": [
    {
     "name": "stdout",
     "output_type": "stream",
     "text": [
      "num_unique:  586 7.511857454172542\n"
     ]
    }
   ],
   "source": [
    "show_preds('convai2_pretrain.valid.beam20')"
   ]
  },
  {
   "cell_type": "code",
   "execution_count": 6,
   "metadata": {},
   "outputs": [
    {
     "name": "stdout",
     "output_type": "stream",
     "text": [
      "num_unique:  1983 25.419817972054865\n"
     ]
    }
   ],
   "source": [
    "show_preds('seq2seq_twitterpretrained_specificityclusters_10buckets.valid.beam20.fixed_clusterid9')"
   ]
  },
  {
   "cell_type": "code",
   "execution_count": null,
   "metadata": {},
   "outputs": [],
   "source": []
  }
 ],
 "metadata": {
  "kernelspec": {
   "display_name": "Python 3",
   "language": "python",
   "name": "python3"
  },
  "language_info": {
   "codemirror_mode": {
    "name": "ipython",
    "version": 3
   },
   "file_extension": ".py",
   "mimetype": "text/x-python",
   "name": "python",
   "nbconvert_exporter": "python",
   "pygments_lexer": "ipython3",
   "version": "3.6.5"
  }
 },
 "nbformat": 4,
 "nbformat_minor": 2
}
