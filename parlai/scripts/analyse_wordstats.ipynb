{
 "cells": [
  {
   "cell_type": "code",
   "execution_count": 9,
   "metadata": {},
   "outputs": [],
   "source": [
    "%load_ext autoreload\n",
    "%autoreload 2\n",
    "\n",
    "import os\n",
    "import json\n",
    "from collections import Counter"
   ]
  },
  {
   "cell_type": "code",
   "execution_count": 4,
   "metadata": {},
   "outputs": [
    {
     "name": "stdout",
     "output_type": "stream",
     "text": [
      "seq2seq.valid.beam1\n",
      "seq2seq.valid.beam20\n",
      "seq2seq_twitterpretrained_specificityclusters_10buckets.valid.beam20\n",
      "seq2seq.valid.beam10\n",
      " goldresponse\n",
      "seq2seq_twitterpretrained_specificityclusters_10buckets.valid.beam20.fixed_clusterid9\n",
      "seq2seq_twitterpretrained_specificityclusters_10buckets.valid.beam20.fixed_clusterid1\n",
      "seq2seq_twitterpretrained_specificityclusters_10buckets.valid.beam20.fixed_clusterid4\n",
      "seq2seq_twitterpretrained_specificityclusters_10buckets.valid.beam20.fixed_clusterid3\n",
      "seq2seq_twitterpretrained_specificityclusters_10buckets.valid.beam20.fixed_clusterid6\n",
      "seq2seq_twitterpretrained_specificityclusters_10buckets.valid.beam20.fixed_clusterid7\n",
      "seq2seq_twitterpretrained_specificityclusters_10buckets.valid.beam20.fixed_clusterid5\n",
      "seq2seq_twitterpretrained_specificityclusters_10buckets.valid.beam20.fixed_clusterid8\n",
      "seq2seq_twitterpretrained_specificityclusters_10buckets.valid.beam20.fixed_clusterid0\n",
      "seq2seq_twitterpretrained_specificityclusters_10buckets.valid.beam20.fixed_clusterid2\n",
      "convai2_pretrain.valid.beam1\n",
      "convai2_pretrain.valid.beam20\n",
      "convai2_pretrain.valid.beam10\n"
     ]
    }
   ],
   "source": [
    "model_dirs = ['/private/home/abisee/models', '/checkpoint/abisee/ahm/pretrain_twitter_split']\n",
    "mf2wordstats = {}\n",
    "\n",
    "for model_dir in model_dirs:\n",
    "    wordstat_files = [fname for fname in os.listdir(model_dir) if 'wordstats.json' in fname]\n",
    "    for json_file in wordstat_files:\n",
    "        mf = json_file[:json_file.index('.wordstats.json')]\n",
    "        if mf == 'goldresponse':\n",
    "            mf = ' goldresponse'\n",
    "        print(mf)\n",
    "        with open(os.path.join(model_dir, json_file), \"r\") as f:\n",
    "            data = json.load(f)\n",
    "        mf2wordstats[mf] = data\n"
   ]
  },
  {
   "cell_type": "code",
   "execution_count": 5,
   "metadata": {},
   "outputs": [
    {
     "data": {
      "text/html": [
       "<table>\n",
       "<tbody>\n",
       "<tr><td>model name                                                                           </td><td>num_exs</td><td>ppl  </td><td>unique_perc</td><td>mean_wlength</td><td>mean_clength</td><td>avg_niwf</td><td>% rare<100</td><td>% rare<1000</td><td>% rare<10000</td><td>distinct-1</td><td>distinct-2</td><td>distinct-3</td><td>distinct-4</td></tr>\n",
       "<tr><td>goldresponse                                                                         </td><td>7801   </td><td>31.62</td><td>98.77%     </td><td>11.87       </td><td>51.22       </td><td>11.7342%</td><td>5.40%     </td><td>15.84%     </td><td>38.51%      </td><td>0.0541    </td><td>0.3336    </td><td>0.5786    </td><td>0.6536    </td></tr>\n",
       "<tr><td>convai2_pretrain.valid.beam1                                                         </td><td>7801   </td><td>21.13</td><td>60.17%     </td><td>10.52       </td><td>38.32       </td><td>1.2864% </td><td>0.13%     </td><td>2.22%      </td><td>12.11%      </td><td>0.0162    </td><td>0.0675    </td><td>0.1225    </td><td>0.1724    </td></tr>\n",
       "<tr><td>convai2_pretrain.valid.beam10                                                        </td><td>7801   </td><td>21.13</td><td>8.61%      </td><td>8.48        </td><td>30.19       </td><td>0.1702% </td><td>0.01%     </td><td>0.16%      </td><td>2.45%       </td><td>0.0083    </td><td>0.0227    </td><td>0.0325    </td><td>0.0382    </td></tr>\n",
       "<tr><td>convai2_pretrain.valid.beam20                                                        </td><td>7801   </td><td>21.13</td><td>6.13%      </td><td>8.19        </td><td>29.45       </td><td>0.1432% </td><td>0.00%     </td><td>0.11%      </td><td>1.88%       </td><td>0.0078    </td><td>0.0206    </td><td>0.0279    </td><td>0.0314    </td></tr>\n",
       "<tr><td>seq2seq_twitterpretrained_specificityclusters_10buckets.valid.beam20                 </td><td>7801   </td><td>24.08</td><td>22.14%     </td><td>11.30       </td><td>40.42       </td><td>1.4813% </td><td>0.43%     </td><td>1.34%      </td><td>5.41%       </td><td>0.0138    </td><td>0.0423    </td><td>0.0617    </td><td>0.0736    </td></tr>\n",
       "<tr><td>seq2seq_twitterpretrained_specificityclusters_10buckets.valid.beam20.fixed_clusterid0</td><td>7801   </td><td>39.96</td><td>3.92%      </td><td>7.76        </td><td>28.44       </td><td>0.0638% </td><td>0.00%     </td><td>0.00%      </td><td>1.69%       </td><td>0.0038    </td><td>0.0118    </td><td>0.0167    </td><td>0.0189    </td></tr>\n",
       "<tr><td>seq2seq_twitterpretrained_specificityclusters_10buckets.valid.beam20.fixed_clusterid1</td><td>7801   </td><td>34.14</td><td>11.52%     </td><td>9.09        </td><td>34.40       </td><td>0.2123% </td><td>0.00%     </td><td>0.03%      </td><td>4.63%       </td><td>0.0072    </td><td>0.0264    </td><td>0.0395    </td><td>0.0467    </td></tr>\n",
       "<tr><td>seq2seq_twitterpretrained_specificityclusters_10buckets.valid.beam20.fixed_clusterid2</td><td>7801   </td><td>30.12</td><td>14.22%     </td><td>9.81        </td><td>36.89       </td><td>0.3133% </td><td>0.00%     </td><td>0.12%      </td><td>4.72%       </td><td>0.0087    </td><td>0.0309    </td><td>0.0463    </td><td>0.0551    </td></tr>\n",
       "<tr><td>seq2seq_twitterpretrained_specificityclusters_10buckets.valid.beam20.fixed_clusterid3</td><td>7801   </td><td>27.48</td><td>17.52%     </td><td>10.21       </td><td>38.08       </td><td>0.4501% </td><td>0.00%     </td><td>0.30%      </td><td>4.86%       </td><td>0.0108    </td><td>0.0363    </td><td>0.0545    </td><td>0.0653    </td></tr>\n",
       "<tr><td>seq2seq_twitterpretrained_specificityclusters_10buckets.valid.beam20.fixed_clusterid4</td><td>7801   </td><td>26.3 </td><td>20.23%     </td><td>10.62       </td><td>39.39       </td><td>0.7076% </td><td>0.08%     </td><td>0.78%      </td><td>5.38%       </td><td>0.0124    </td><td>0.0404    </td><td>0.0599    </td><td>0.0718    </td></tr>\n",
       "<tr><td>seq2seq_twitterpretrained_specificityclusters_10buckets.valid.beam20.fixed_clusterid5</td><td>7801   </td><td>26.2 </td><td>21.92%     </td><td>12.18       </td><td>43.25       </td><td>1.0415% </td><td>0.18%     </td><td>1.12%      </td><td>5.62%       </td><td>0.0124    </td><td>0.0388    </td><td>0.0575    </td><td>0.0690    </td></tr>\n",
       "<tr><td>seq2seq_twitterpretrained_specificityclusters_10buckets.valid.beam20.fixed_clusterid6</td><td>7801   </td><td>26.19</td><td>22.07%     </td><td>12.30       </td><td>43.65       </td><td>1.4753% </td><td>0.41%     </td><td>1.53%      </td><td>5.71%       </td><td>0.0126    </td><td>0.0396    </td><td>0.0585    </td><td>0.0706    </td></tr>\n",
       "<tr><td>seq2seq_twitterpretrained_specificityclusters_10buckets.valid.beam20.fixed_clusterid7</td><td>7801   </td><td>26.42</td><td>21.86%     </td><td>12.04       </td><td>43.42       </td><td>2.0672% </td><td>0.70%     </td><td>1.99%      </td><td>6.62%       </td><td>0.0134    </td><td>0.0403    </td><td>0.0590    </td><td>0.0705    </td></tr>\n",
       "<tr><td>seq2seq_twitterpretrained_specificityclusters_10buckets.valid.beam20.fixed_clusterid8</td><td>7801   </td><td>26.93</td><td>22.36%     </td><td>13.26       </td><td>45.92       </td><td>2.6342% </td><td>0.76%     </td><td>2.29%      </td><td>6.24%       </td><td>0.0129    </td><td>0.0379    </td><td>0.0553    </td><td>0.0662    </td></tr>\n",
       "<tr><td>seq2seq_twitterpretrained_specificityclusters_10buckets.valid.beam20.fixed_clusterid9</td><td>7801   </td><td>28.24</td><td>22.43%     </td><td>13.46       </td><td>46.54       </td><td>5.1553% </td><td>1.36%     </td><td>2.91%      </td><td>6.29%       </td><td>0.0136    </td><td>0.0383    </td><td>0.0555    </td><td>0.0666    </td></tr>\n",
       "</tbody>\n",
       "</table>"
      ],
      "text/plain": [
       "<IPython.core.display.HTML object>"
      ]
     },
     "metadata": {},
     "output_type": "display_data"
    }
   ],
   "source": [
    "from IPython.display import HTML, display\n",
    "import tabulate\n",
    "\n",
    "def model2row(mf, wordstats):\n",
    "    avg_niwf = wordstats['niwf']['avg_niwf']*100\n",
    "    row = [\n",
    "        mf,\n",
    "        wordstats['report']['exs'],\n",
    "        wordstats['report']['ppl'],\n",
    "        \"%.2f%%\" % wordstats['unique_percent'],\n",
    "        \"%.2f\" % wordstats['word_statistics']['mean_wlength'],\n",
    "        \"%.2f\" % wordstats['word_statistics']['mean_clength'],\n",
    "        \"%.4f%%\" % avg_niwf,\n",
    "        \"%.2f%%\" % wordstats['word_statistics']['freqs_perc']['100'],\n",
    "        \"%.2f%%\" % wordstats['word_statistics']['freqs_perc']['1000'],\n",
    "        \"%.2f%%\" % wordstats['word_statistics']['freqs_perc']['10000'],\n",
    "        \"%.4f\" % wordstats['distinct-n']['1'],\n",
    "        \"%.4f\" % wordstats['distinct-n']['2'],\n",
    "        \"%.4f\" % wordstats['distinct-n']['3'],\n",
    "        \"%.4f\" % wordstats['distinct-n']['4'],\n",
    "    ]\n",
    "    return row\n",
    "\n",
    "header_row = ['model name', \n",
    "              'num_exs', \n",
    "              'ppl',\n",
    "              'unique_perc', \n",
    "              'mean_wlength', \n",
    "              'mean_clength', \n",
    "              'avg_niwf',\n",
    "              '% rare<100', \n",
    "              '% rare<1000', \n",
    "              '% rare<10000',\n",
    "              'distinct-1',\n",
    "              'distinct-2',\n",
    "              'distinct-3',\n",
    "              'distinct-4',\n",
    "             ]\n",
    "\n",
    "\n",
    "table = [header_row] \n",
    "\n",
    "for mf in sorted(mf2wordstats.keys()):\n",
    "    if 'seq2seq.' in mf:\n",
    "        continue\n",
    "    table.append(model2row(mf, mf2wordstats[mf]))\n",
    "    \n",
    "display(HTML(tabulate.tabulate(table, tablefmt='html')))"
   ]
  },
  {
   "cell_type": "code",
   "execution_count": 42,
   "metadata": {},
   "outputs": [],
   "source": [
    "def show_preds(mf):\n",
    "    counter = Counter()\n",
    "    preds = mf2wordstats[mf]['predictions']\n",
    "    counter.update(preds)\n",
    "    num_unique = len([p for p,count in counter.items() if count==1])\n",
    "    print(\"num_unique: \", num_unique, num_unique*100/sum(counter.values()))\n",
    "#     for p, count in counter.most_common(100):\n",
    "#         print(\"%3i   %s\" % (count, p))"
   ]
  },
  {
   "cell_type": "code",
   "execution_count": 43,
   "metadata": {},
   "outputs": [
    {
     "name": "stdout",
     "output_type": "stream",
     "text": [
      "num_unique:  586 7.511857454172542\n"
     ]
    }
   ],
   "source": [
    "show_preds('convai2_pretrain.valid.beam20')"
   ]
  },
  {
   "cell_type": "code",
   "execution_count": 44,
   "metadata": {},
   "outputs": [
    {
     "name": "stdout",
     "output_type": "stream",
     "text": [
      "num_unique:  1983 25.419817972054865\n"
     ]
    }
   ],
   "source": [
    "show_preds('seq2seq_twitterpretrained_specificityclusters_10buckets.valid.beam20.fixed_clusterid9')"
   ]
  },
  {
   "cell_type": "code",
   "execution_count": null,
   "metadata": {},
   "outputs": [],
   "source": []
  }
 ],
 "metadata": {
  "kernelspec": {
   "display_name": "Python 3",
   "language": "python",
   "name": "python3"
  }
 },
 "nbformat": 4,
 "nbformat_minor": 2
}
